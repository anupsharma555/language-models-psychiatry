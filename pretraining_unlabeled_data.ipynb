{
 "cells": [
  {
   "cell_type": "markdown",
   "id": "f7db9585",
   "metadata": {},
   "source": [
    "<h2 style=\"color:#228B22; font-weight:bold; margin-bottom:0.5em;\">Pretraining a GPT-Style Language Model from Scratch</h1>\n",
    "\n",
    "<p>\n",
    "<strong>Author:</strong> <span style=\"color:#FFD800;\">Anup Sharma</span><br>\n",
    "</p>\n",
    "\n",
    "<hr style=\"border-top: 2px solid #888888;\">\n",
    "\n",
    "<table>\n",
    "  <tr>\n",
    "    <td><strong>Dataset</strong></td>\n",
    "    <td>Characters: <span style=\"color:#228B22;\">10,419</span></td>\n",
    "    <td>Tokens: <span style=\"color:#228B22;\">2,772</span></td>\n",
    "  </tr>\n",
    "  <tr>\n",
    "    <td><strong>Model</strong></td>\n",
    "    <td>Type: <span style=\"color:#228B22;\">GPT (Transformer)</span></td>\n",
    "    <td>Layers: <span style=\"color:#228B22;\">12</span></td>\n",
    "    <td>Heads: <span style=\"color:#228B22;\">12</span></td>\n",
    "    <td>Embedding Dim: <span style=\"color:#228B22;\">768</span></td>\n",
    "    <td>Context Length: <span style=\"color:#228B22;\">256</span></td>\n",
    "    <td>Epochs: <span style=\"color:#228B22;\">10</span></td>\n",
    "  </tr>\n",
    "</table>\n",
    "\n",
    "<hr style=\"border-top: 2px solid #888888;\">\n",
    "\n",
    "<p style=\"font-size:1.1em; margin-bottom:0.5em;\"><strong>Workflow Overview:</strong></p>\n",
    "<p>\n",
    "  This notebook demonstrates how to pretrain a GPT-style language model from scratch on a small sample text dataset. The data is split into training and validation sets, and the model is trained for 10 epochs using the AdamW optimizer. At each epoch, the model processes data in batches, computes cross-entropy loss, updates its weights, periodically evaluates performance on both training and validation sets, and generates sample text to monitor progress. This workflow leverages all core features of the transformer architecture and provides a hands-on introduction to large language model pretraining.\n",
    "</p>\n",
    "\n",
    "<p style=\"color:#888;\">\n",
    "  <em>Run the cells below to inspect the dataset, model, and training process from scratch for educational purposes and future"
   ]
  },
  {
   "cell_type": "code",
   "execution_count": 4,
   "id": "629c0dae",
   "metadata": {},
   "outputs": [
    {
     "name": "stdout",
     "output_type": "stream",
     "text": [
      "matplotlib version: 3.10.5\n",
      "numpy version: 2.2.6\n",
      "tiktoken version: 0.11.0\n",
      "torch version: 2.8.0\n",
      "tensorflow version: 2.20.0\n"
     ]
    }
   ],
   "source": [
    "from importlib.metadata import version\n",
    "\n",
    "pkgs = [\"matplotlib\",\n",
    "        \"numpy\",\n",
    "        \"tiktoken\",\n",
    "        \"torch\",\n",
    "        \"tensorflow\" #For OpenAI's pretrained weights\n",
    "       ]\n",
    "\n",
    "for p in pkgs:\n",
    "    print(f\"{p} version: {version(p)}\")\n"
   ]
  },
  {
   "cell_type": "code",
   "execution_count": 11,
   "id": "414cd78c",
   "metadata": {},
   "outputs": [
    {
     "name": "stdout",
     "output_type": "stream",
     "text": [
      "/Users/anup/gitProjects/language-models-psychiatry\n"
     ]
    }
   ],
   "source": [
    "#working directory\n",
    "import os\n",
    "print(os.getcwd())"
   ]
  },
  {
   "cell_type": "code",
   "execution_count": null,
   "id": "183bc60a",
   "metadata": {},
   "outputs": [
    {
     "name": "stdout",
     "output_type": "stream",
     "text": [
      "<class 'gpt_from_scratch.GPTModel'>\n"
     ]
    }
   ],
   "source": [
    "import torch\n",
    "from gpt_from_scratch import GPTModel\n"
   ]
  },
  {
   "cell_type": "code",
   "execution_count": 16,
   "id": "34f22461",
   "metadata": {},
   "outputs": [
    {
     "data": {
      "text/markdown": [
       "```python\n",
       "class GPTModel(nn.Module):\n",
       "    def __init__(self, cfg):\n",
       "        super().__init__()\n",
       "        self.tok_emb = nn.Embedding(cfg[\"vocab_size\"], cfg[\"emb_dim\"])\n",
       "        self.pos_emb = nn.Embedding(cfg[\"context_length\"], cfg[\"emb_dim\"])\n",
       "        self.drop_emb = nn.Dropout(cfg[\"drop_rate\"])\n",
       "\n",
       "        self.trf_blocks = nn.Sequential(\n",
       "            *[TransformerBlock(cfg) for _ in range(cfg[\"n_layers\"])])\n",
       "\n",
       "        self.final_norm = LayerNorm(cfg[\"emb_dim\"])\n",
       "        self.out_head = nn.Linear(cfg[\"emb_dim\"], cfg[\"vocab_size\"], bias=False)\n",
       "\n",
       "    def forward(self, in_idx):\n",
       "        batch_size, seq_len = in_idx.shape\n",
       "        tok_embeds = self.tok_emb(in_idx)\n",
       "        pos_embeds = self.pos_emb(torch.arange(seq_len, device=in_idx.device))\n",
       "        x = tok_embeds + pos_embeds  # Shape [batch_size, num_tokens, emb_size]\n",
       "        x = self.drop_emb(x)\n",
       "        x = self.trf_blocks(x)\n",
       "        x = self.final_norm(x)\n",
       "        logits = self.out_head(x)\n",
       "        return logits\n",
       "\n",
       "```"
      ],
      "text/plain": [
       "<IPython.core.display.Markdown object>"
      ]
     },
     "metadata": {},
     "output_type": "display_data"
    }
   ],
   "source": [
    "#Inspect the GPT Model\n",
    "import inspect\n",
    "from gpt_from_scratch import GPTModel\n",
    "\n",
    "from IPython.display import display, Markdown\n",
    "display(Markdown(f\"```python\\n{inspect.getsource(GPTModel)}\\n```\"))"
   ]
  },
  {
   "cell_type": "code",
   "execution_count": 18,
   "id": "e26414f5",
   "metadata": {},
   "outputs": [],
   "source": [
    "#config file that contains model parameters for GPTModel\n",
    "\n",
    "GPT_CONFIG_124M = {\n",
    "    \"vocab_size\": 50257,   # Vocabulary size\n",
    "    \"context_length\": 256, # Shortened context length (orig: 1024)\n",
    "    \"emb_dim\": 768,        # Embedding dimension\n",
    "    \"n_heads\": 12,         # Number of attention heads\n",
    "    \"n_layers\": 12,        # Number of layers\n",
    "    \"drop_rate\": 0.1,      # Dropout rate\n",
    "    \"qkv_bias\": False      # Query-key-value bias\n",
    "}"
   ]
  },
  {
   "cell_type": "code",
   "execution_count": 20,
   "id": "2d99a3d2",
   "metadata": {},
   "outputs": [],
   "source": [
    "torch.manual_seed(123)\n",
    "model = GPTModel(GPT_CONFIG_124M)\n",
    "model.eval();  #Disable dropout during inference"
   ]
  },
  {
   "cell_type": "code",
   "execution_count": null,
   "id": "dcceefa0",
   "metadata": {},
   "outputs": [
    {
     "data": {
      "text/plain": [
       "GPTModel(\n",
       "  (tok_emb): Embedding(50257, 768)\n",
       "  (pos_emb): Embedding(256, 768)\n",
       "  (drop_emb): Dropout(p=0.1, inplace=False)\n",
       "  (trf_blocks): Sequential(\n",
       "    (0): TransformerBlock(\n",
       "      (att): MultiHeadAttention(\n",
       "        (W_query): Linear(in_features=768, out_features=768, bias=False)\n",
       "        (W_key): Linear(in_features=768, out_features=768, bias=False)\n",
       "        (W_value): Linear(in_features=768, out_features=768, bias=False)\n",
       "        (out_proj): Linear(in_features=768, out_features=768, bias=True)\n",
       "        (dropout): Dropout(p=0.1, inplace=False)\n",
       "      )\n",
       "      (ff): FeedForward(\n",
       "        (layers): Sequential(\n",
       "          (0): Linear(in_features=768, out_features=3072, bias=True)\n",
       "          (1): GELU()\n",
       "          (2): Linear(in_features=3072, out_features=768, bias=True)\n",
       "        )\n",
       "      )\n",
       "      (norm1): LayerNorm()\n",
       "      (norm2): LayerNorm()\n",
       "      (drop_shortcut): Dropout(p=0.1, inplace=False)\n",
       "    )\n",
       "    (1): TransformerBlock(\n",
       "      (att): MultiHeadAttention(\n",
       "        (W_query): Linear(in_features=768, out_features=768, bias=False)\n",
       "        (W_key): Linear(in_features=768, out_features=768, bias=False)\n",
       "        (W_value): Linear(in_features=768, out_features=768, bias=False)\n",
       "        (out_proj): Linear(in_features=768, out_features=768, bias=True)\n",
       "        (dropout): Dropout(p=0.1, inplace=False)\n",
       "      )\n",
       "      (ff): FeedForward(\n",
       "        (layers): Sequential(\n",
       "          (0): Linear(in_features=768, out_features=3072, bias=True)\n",
       "          (1): GELU()\n",
       "          (2): Linear(in_features=3072, out_features=768, bias=True)\n",
       "        )\n",
       "      )\n",
       "      (norm1): LayerNorm()\n",
       "      (norm2): LayerNorm()\n",
       "      (drop_shortcut): Dropout(p=0.1, inplace=False)\n",
       "    )\n",
       "    (2): TransformerBlock(\n",
       "      (att): MultiHeadAttention(\n",
       "        (W_query): Linear(in_features=768, out_features=768, bias=False)\n",
       "        (W_key): Linear(in_features=768, out_features=768, bias=False)\n",
       "        (W_value): Linear(in_features=768, out_features=768, bias=False)\n",
       "        (out_proj): Linear(in_features=768, out_features=768, bias=True)\n",
       "        (dropout): Dropout(p=0.1, inplace=False)\n",
       "      )\n",
       "      (ff): FeedForward(\n",
       "        (layers): Sequential(\n",
       "          (0): Linear(in_features=768, out_features=3072, bias=True)\n",
       "          (1): GELU()\n",
       "          (2): Linear(in_features=3072, out_features=768, bias=True)\n",
       "        )\n",
       "      )\n",
       "      (norm1): LayerNorm()\n",
       "      (norm2): LayerNorm()\n",
       "      (drop_shortcut): Dropout(p=0.1, inplace=False)\n",
       "    )\n",
       "    (3): TransformerBlock(\n",
       "      (att): MultiHeadAttention(\n",
       "        (W_query): Linear(in_features=768, out_features=768, bias=False)\n",
       "        (W_key): Linear(in_features=768, out_features=768, bias=False)\n",
       "        (W_value): Linear(in_features=768, out_features=768, bias=False)\n",
       "        (out_proj): Linear(in_features=768, out_features=768, bias=True)\n",
       "        (dropout): Dropout(p=0.1, inplace=False)\n",
       "      )\n",
       "      (ff): FeedForward(\n",
       "        (layers): Sequential(\n",
       "          (0): Linear(in_features=768, out_features=3072, bias=True)\n",
       "          (1): GELU()\n",
       "          (2): Linear(in_features=3072, out_features=768, bias=True)\n",
       "        )\n",
       "      )\n",
       "      (norm1): LayerNorm()\n",
       "      (norm2): LayerNorm()\n",
       "      (drop_shortcut): Dropout(p=0.1, inplace=False)\n",
       "    )\n",
       "    (4): TransformerBlock(\n",
       "      (att): MultiHeadAttention(\n",
       "        (W_query): Linear(in_features=768, out_features=768, bias=False)\n",
       "        (W_key): Linear(in_features=768, out_features=768, bias=False)\n",
       "        (W_value): Linear(in_features=768, out_features=768, bias=False)\n",
       "        (out_proj): Linear(in_features=768, out_features=768, bias=True)\n",
       "        (dropout): Dropout(p=0.1, inplace=False)\n",
       "      )\n",
       "      (ff): FeedForward(\n",
       "        (layers): Sequential(\n",
       "          (0): Linear(in_features=768, out_features=3072, bias=True)\n",
       "          (1): GELU()\n",
       "          (2): Linear(in_features=3072, out_features=768, bias=True)\n",
       "        )\n",
       "      )\n",
       "      (norm1): LayerNorm()\n",
       "      (norm2): LayerNorm()\n",
       "      (drop_shortcut): Dropout(p=0.1, inplace=False)\n",
       "    )\n",
       "    (5): TransformerBlock(\n",
       "      (att): MultiHeadAttention(\n",
       "        (W_query): Linear(in_features=768, out_features=768, bias=False)\n",
       "        (W_key): Linear(in_features=768, out_features=768, bias=False)\n",
       "        (W_value): Linear(in_features=768, out_features=768, bias=False)\n",
       "        (out_proj): Linear(in_features=768, out_features=768, bias=True)\n",
       "        (dropout): Dropout(p=0.1, inplace=False)\n",
       "      )\n",
       "      (ff): FeedForward(\n",
       "        (layers): Sequential(\n",
       "          (0): Linear(in_features=768, out_features=3072, bias=True)\n",
       "          (1): GELU()\n",
       "          (2): Linear(in_features=3072, out_features=768, bias=True)\n",
       "        )\n",
       "      )\n",
       "      (norm1): LayerNorm()\n",
       "      (norm2): LayerNorm()\n",
       "      (drop_shortcut): Dropout(p=0.1, inplace=False)\n",
       "    )\n",
       "    (6): TransformerBlock(\n",
       "      (att): MultiHeadAttention(\n",
       "        (W_query): Linear(in_features=768, out_features=768, bias=False)\n",
       "        (W_key): Linear(in_features=768, out_features=768, bias=False)\n",
       "        (W_value): Linear(in_features=768, out_features=768, bias=False)\n",
       "        (out_proj): Linear(in_features=768, out_features=768, bias=True)\n",
       "        (dropout): Dropout(p=0.1, inplace=False)\n",
       "      )\n",
       "      (ff): FeedForward(\n",
       "        (layers): Sequential(\n",
       "          (0): Linear(in_features=768, out_features=3072, bias=True)\n",
       "          (1): GELU()\n",
       "          (2): Linear(in_features=3072, out_features=768, bias=True)\n",
       "        )\n",
       "      )\n",
       "      (norm1): LayerNorm()\n",
       "      (norm2): LayerNorm()\n",
       "      (drop_shortcut): Dropout(p=0.1, inplace=False)\n",
       "    )\n",
       "    (7): TransformerBlock(\n",
       "      (att): MultiHeadAttention(\n",
       "        (W_query): Linear(in_features=768, out_features=768, bias=False)\n",
       "        (W_key): Linear(in_features=768, out_features=768, bias=False)\n",
       "        (W_value): Linear(in_features=768, out_features=768, bias=False)\n",
       "        (out_proj): Linear(in_features=768, out_features=768, bias=True)\n",
       "        (dropout): Dropout(p=0.1, inplace=False)\n",
       "      )\n",
       "      (ff): FeedForward(\n",
       "        (layers): Sequential(\n",
       "          (0): Linear(in_features=768, out_features=3072, bias=True)\n",
       "          (1): GELU()\n",
       "          (2): Linear(in_features=3072, out_features=768, bias=True)\n",
       "        )\n",
       "      )\n",
       "      (norm1): LayerNorm()\n",
       "      (norm2): LayerNorm()\n",
       "      (drop_shortcut): Dropout(p=0.1, inplace=False)\n",
       "    )\n",
       "    (8): TransformerBlock(\n",
       "      (att): MultiHeadAttention(\n",
       "        (W_query): Linear(in_features=768, out_features=768, bias=False)\n",
       "        (W_key): Linear(in_features=768, out_features=768, bias=False)\n",
       "        (W_value): Linear(in_features=768, out_features=768, bias=False)\n",
       "        (out_proj): Linear(in_features=768, out_features=768, bias=True)\n",
       "        (dropout): Dropout(p=0.1, inplace=False)\n",
       "      )\n",
       "      (ff): FeedForward(\n",
       "        (layers): Sequential(\n",
       "          (0): Linear(in_features=768, out_features=3072, bias=True)\n",
       "          (1): GELU()\n",
       "          (2): Linear(in_features=3072, out_features=768, bias=True)\n",
       "        )\n",
       "      )\n",
       "      (norm1): LayerNorm()\n",
       "      (norm2): LayerNorm()\n",
       "      (drop_shortcut): Dropout(p=0.1, inplace=False)\n",
       "    )\n",
       "    (9): TransformerBlock(\n",
       "      (att): MultiHeadAttention(\n",
       "        (W_query): Linear(in_features=768, out_features=768, bias=False)\n",
       "        (W_key): Linear(in_features=768, out_features=768, bias=False)\n",
       "        (W_value): Linear(in_features=768, out_features=768, bias=False)\n",
       "        (out_proj): Linear(in_features=768, out_features=768, bias=True)\n",
       "        (dropout): Dropout(p=0.1, inplace=False)\n",
       "      )\n",
       "      (ff): FeedForward(\n",
       "        (layers): Sequential(\n",
       "          (0): Linear(in_features=768, out_features=3072, bias=True)\n",
       "          (1): GELU()\n",
       "          (2): Linear(in_features=3072, out_features=768, bias=True)\n",
       "        )\n",
       "      )\n",
       "      (norm1): LayerNorm()\n",
       "      (norm2): LayerNorm()\n",
       "      (drop_shortcut): Dropout(p=0.1, inplace=False)\n",
       "    )\n",
       "    (10): TransformerBlock(\n",
       "      (att): MultiHeadAttention(\n",
       "        (W_query): Linear(in_features=768, out_features=768, bias=False)\n",
       "        (W_key): Linear(in_features=768, out_features=768, bias=False)\n",
       "        (W_value): Linear(in_features=768, out_features=768, bias=False)\n",
       "        (out_proj): Linear(in_features=768, out_features=768, bias=True)\n",
       "        (dropout): Dropout(p=0.1, inplace=False)\n",
       "      )\n",
       "      (ff): FeedForward(\n",
       "        (layers): Sequential(\n",
       "          (0): Linear(in_features=768, out_features=3072, bias=True)\n",
       "          (1): GELU()\n",
       "          (2): Linear(in_features=3072, out_features=768, bias=True)\n",
       "        )\n",
       "      )\n",
       "      (norm1): LayerNorm()\n",
       "      (norm2): LayerNorm()\n",
       "      (drop_shortcut): Dropout(p=0.1, inplace=False)\n",
       "    )\n",
       "    (11): TransformerBlock(\n",
       "      (att): MultiHeadAttention(\n",
       "        (W_query): Linear(in_features=768, out_features=768, bias=False)\n",
       "        (W_key): Linear(in_features=768, out_features=768, bias=False)\n",
       "        (W_value): Linear(in_features=768, out_features=768, bias=False)\n",
       "        (out_proj): Linear(in_features=768, out_features=768, bias=True)\n",
       "        (dropout): Dropout(p=0.1, inplace=False)\n",
       "      )\n",
       "      (ff): FeedForward(\n",
       "        (layers): Sequential(\n",
       "          (0): Linear(in_features=768, out_features=3072, bias=True)\n",
       "          (1): GELU()\n",
       "          (2): Linear(in_features=3072, out_features=768, bias=True)\n",
       "        )\n",
       "      )\n",
       "      (norm1): LayerNorm()\n",
       "      (norm2): LayerNorm()\n",
       "      (drop_shortcut): Dropout(p=0.1, inplace=False)\n",
       "    )\n",
       "  )\n",
       "  (final_norm): LayerNorm()\n",
       "  (out_head): Linear(in_features=768, out_features=50257, bias=False)\n",
       ")"
      ]
     },
     "metadata": {},
     "output_type": "display_data"
    }
   ],
   "source": [
    "#View of the model architecture\n",
    "from IPython.display import display\n",
    "display(model)"
   ]
  },
  {
   "cell_type": "code",
   "execution_count": 30,
   "id": "f792c191",
   "metadata": {},
   "outputs": [
    {
     "name": "stdout",
     "output_type": "stream",
     "text": [
      "tok_emb.weight torch.Size([50257, 768])\n",
      "pos_emb.weight torch.Size([256, 768])\n",
      "trf_blocks.0.att.W_query.weight torch.Size([768, 768])\n",
      "trf_blocks.0.att.W_key.weight torch.Size([768, 768])\n",
      "trf_blocks.0.att.W_value.weight torch.Size([768, 768])\n",
      "trf_blocks.0.att.out_proj.weight torch.Size([768, 768])\n",
      "trf_blocks.0.att.out_proj.bias torch.Size([768])\n",
      "trf_blocks.0.ff.layers.0.weight torch.Size([3072, 768])\n",
      "trf_blocks.0.ff.layers.0.bias torch.Size([3072])\n",
      "trf_blocks.0.ff.layers.2.weight torch.Size([768, 3072])\n",
      "trf_blocks.0.ff.layers.2.bias torch.Size([768])\n",
      "trf_blocks.0.norm1.scale torch.Size([768])\n",
      "trf_blocks.0.norm1.shift torch.Size([768])\n",
      "trf_blocks.0.norm2.scale torch.Size([768])\n",
      "trf_blocks.0.norm2.shift torch.Size([768])\n",
      "trf_blocks.1.att.W_query.weight torch.Size([768, 768])\n",
      "trf_blocks.1.att.W_key.weight torch.Size([768, 768])\n",
      "trf_blocks.1.att.W_value.weight torch.Size([768, 768])\n",
      "trf_blocks.1.att.out_proj.weight torch.Size([768, 768])\n",
      "trf_blocks.1.att.out_proj.bias torch.Size([768])\n",
      "trf_blocks.1.ff.layers.0.weight torch.Size([3072, 768])\n",
      "trf_blocks.1.ff.layers.0.bias torch.Size([3072])\n",
      "trf_blocks.1.ff.layers.2.weight torch.Size([768, 3072])\n",
      "trf_blocks.1.ff.layers.2.bias torch.Size([768])\n",
      "trf_blocks.1.norm1.scale torch.Size([768])\n",
      "trf_blocks.1.norm1.shift torch.Size([768])\n",
      "trf_blocks.1.norm2.scale torch.Size([768])\n",
      "trf_blocks.1.norm2.shift torch.Size([768])\n",
      "trf_blocks.2.att.W_query.weight torch.Size([768, 768])\n",
      "trf_blocks.2.att.W_key.weight torch.Size([768, 768])\n",
      "trf_blocks.2.att.W_value.weight torch.Size([768, 768])\n",
      "trf_blocks.2.att.out_proj.weight torch.Size([768, 768])\n",
      "trf_blocks.2.att.out_proj.bias torch.Size([768])\n",
      "trf_blocks.2.ff.layers.0.weight torch.Size([3072, 768])\n",
      "trf_blocks.2.ff.layers.0.bias torch.Size([3072])\n",
      "trf_blocks.2.ff.layers.2.weight torch.Size([768, 3072])\n",
      "trf_blocks.2.ff.layers.2.bias torch.Size([768])\n",
      "trf_blocks.2.norm1.scale torch.Size([768])\n",
      "trf_blocks.2.norm1.shift torch.Size([768])\n",
      "trf_blocks.2.norm2.scale torch.Size([768])\n",
      "trf_blocks.2.norm2.shift torch.Size([768])\n",
      "trf_blocks.3.att.W_query.weight torch.Size([768, 768])\n",
      "trf_blocks.3.att.W_key.weight torch.Size([768, 768])\n",
      "trf_blocks.3.att.W_value.weight torch.Size([768, 768])\n",
      "trf_blocks.3.att.out_proj.weight torch.Size([768, 768])\n",
      "trf_blocks.3.att.out_proj.bias torch.Size([768])\n",
      "trf_blocks.3.ff.layers.0.weight torch.Size([3072, 768])\n",
      "trf_blocks.3.ff.layers.0.bias torch.Size([3072])\n",
      "trf_blocks.3.ff.layers.2.weight torch.Size([768, 3072])\n",
      "trf_blocks.3.ff.layers.2.bias torch.Size([768])\n",
      "trf_blocks.3.norm1.scale torch.Size([768])\n",
      "trf_blocks.3.norm1.shift torch.Size([768])\n",
      "trf_blocks.3.norm2.scale torch.Size([768])\n",
      "trf_blocks.3.norm2.shift torch.Size([768])\n",
      "trf_blocks.4.att.W_query.weight torch.Size([768, 768])\n",
      "trf_blocks.4.att.W_key.weight torch.Size([768, 768])\n",
      "trf_blocks.4.att.W_value.weight torch.Size([768, 768])\n",
      "trf_blocks.4.att.out_proj.weight torch.Size([768, 768])\n",
      "trf_blocks.4.att.out_proj.bias torch.Size([768])\n",
      "trf_blocks.4.ff.layers.0.weight torch.Size([3072, 768])\n",
      "trf_blocks.4.ff.layers.0.bias torch.Size([3072])\n",
      "trf_blocks.4.ff.layers.2.weight torch.Size([768, 3072])\n",
      "trf_blocks.4.ff.layers.2.bias torch.Size([768])\n",
      "trf_blocks.4.norm1.scale torch.Size([768])\n",
      "trf_blocks.4.norm1.shift torch.Size([768])\n",
      "trf_blocks.4.norm2.scale torch.Size([768])\n",
      "trf_blocks.4.norm2.shift torch.Size([768])\n",
      "trf_blocks.5.att.W_query.weight torch.Size([768, 768])\n",
      "trf_blocks.5.att.W_key.weight torch.Size([768, 768])\n",
      "trf_blocks.5.att.W_value.weight torch.Size([768, 768])\n",
      "trf_blocks.5.att.out_proj.weight torch.Size([768, 768])\n",
      "trf_blocks.5.att.out_proj.bias torch.Size([768])\n",
      "trf_blocks.5.ff.layers.0.weight torch.Size([3072, 768])\n",
      "trf_blocks.5.ff.layers.0.bias torch.Size([3072])\n",
      "trf_blocks.5.ff.layers.2.weight torch.Size([768, 3072])\n",
      "trf_blocks.5.ff.layers.2.bias torch.Size([768])\n",
      "trf_blocks.5.norm1.scale torch.Size([768])\n",
      "trf_blocks.5.norm1.shift torch.Size([768])\n",
      "trf_blocks.5.norm2.scale torch.Size([768])\n",
      "trf_blocks.5.norm2.shift torch.Size([768])\n",
      "trf_blocks.6.att.W_query.weight torch.Size([768, 768])\n",
      "trf_blocks.6.att.W_key.weight torch.Size([768, 768])\n",
      "trf_blocks.6.att.W_value.weight torch.Size([768, 768])\n",
      "trf_blocks.6.att.out_proj.weight torch.Size([768, 768])\n",
      "trf_blocks.6.att.out_proj.bias torch.Size([768])\n",
      "trf_blocks.6.ff.layers.0.weight torch.Size([3072, 768])\n",
      "trf_blocks.6.ff.layers.0.bias torch.Size([3072])\n",
      "trf_blocks.6.ff.layers.2.weight torch.Size([768, 3072])\n",
      "trf_blocks.6.ff.layers.2.bias torch.Size([768])\n",
      "trf_blocks.6.norm1.scale torch.Size([768])\n",
      "trf_blocks.6.norm1.shift torch.Size([768])\n",
      "trf_blocks.6.norm2.scale torch.Size([768])\n",
      "trf_blocks.6.norm2.shift torch.Size([768])\n",
      "trf_blocks.7.att.W_query.weight torch.Size([768, 768])\n",
      "trf_blocks.7.att.W_key.weight torch.Size([768, 768])\n",
      "trf_blocks.7.att.W_value.weight torch.Size([768, 768])\n",
      "trf_blocks.7.att.out_proj.weight torch.Size([768, 768])\n",
      "trf_blocks.7.att.out_proj.bias torch.Size([768])\n",
      "trf_blocks.7.ff.layers.0.weight torch.Size([3072, 768])\n",
      "trf_blocks.7.ff.layers.0.bias torch.Size([3072])\n",
      "trf_blocks.7.ff.layers.2.weight torch.Size([768, 3072])\n",
      "trf_blocks.7.ff.layers.2.bias torch.Size([768])\n",
      "trf_blocks.7.norm1.scale torch.Size([768])\n",
      "trf_blocks.7.norm1.shift torch.Size([768])\n",
      "trf_blocks.7.norm2.scale torch.Size([768])\n",
      "trf_blocks.7.norm2.shift torch.Size([768])\n",
      "trf_blocks.8.att.W_query.weight torch.Size([768, 768])\n",
      "trf_blocks.8.att.W_key.weight torch.Size([768, 768])\n",
      "trf_blocks.8.att.W_value.weight torch.Size([768, 768])\n",
      "trf_blocks.8.att.out_proj.weight torch.Size([768, 768])\n",
      "trf_blocks.8.att.out_proj.bias torch.Size([768])\n",
      "trf_blocks.8.ff.layers.0.weight torch.Size([3072, 768])\n",
      "trf_blocks.8.ff.layers.0.bias torch.Size([3072])\n",
      "trf_blocks.8.ff.layers.2.weight torch.Size([768, 3072])\n",
      "trf_blocks.8.ff.layers.2.bias torch.Size([768])\n",
      "trf_blocks.8.norm1.scale torch.Size([768])\n",
      "trf_blocks.8.norm1.shift torch.Size([768])\n",
      "trf_blocks.8.norm2.scale torch.Size([768])\n",
      "trf_blocks.8.norm2.shift torch.Size([768])\n",
      "trf_blocks.9.att.W_query.weight torch.Size([768, 768])\n",
      "trf_blocks.9.att.W_key.weight torch.Size([768, 768])\n",
      "trf_blocks.9.att.W_value.weight torch.Size([768, 768])\n",
      "trf_blocks.9.att.out_proj.weight torch.Size([768, 768])\n",
      "trf_blocks.9.att.out_proj.bias torch.Size([768])\n",
      "trf_blocks.9.ff.layers.0.weight torch.Size([3072, 768])\n",
      "trf_blocks.9.ff.layers.0.bias torch.Size([3072])\n",
      "trf_blocks.9.ff.layers.2.weight torch.Size([768, 3072])\n",
      "trf_blocks.9.ff.layers.2.bias torch.Size([768])\n",
      "trf_blocks.9.norm1.scale torch.Size([768])\n",
      "trf_blocks.9.norm1.shift torch.Size([768])\n",
      "trf_blocks.9.norm2.scale torch.Size([768])\n",
      "trf_blocks.9.norm2.shift torch.Size([768])\n",
      "trf_blocks.10.att.W_query.weight torch.Size([768, 768])\n",
      "trf_blocks.10.att.W_key.weight torch.Size([768, 768])\n",
      "trf_blocks.10.att.W_value.weight torch.Size([768, 768])\n",
      "trf_blocks.10.att.out_proj.weight torch.Size([768, 768])\n",
      "trf_blocks.10.att.out_proj.bias torch.Size([768])\n",
      "trf_blocks.10.ff.layers.0.weight torch.Size([3072, 768])\n",
      "trf_blocks.10.ff.layers.0.bias torch.Size([3072])\n",
      "trf_blocks.10.ff.layers.2.weight torch.Size([768, 3072])\n",
      "trf_blocks.10.ff.layers.2.bias torch.Size([768])\n",
      "trf_blocks.10.norm1.scale torch.Size([768])\n",
      "trf_blocks.10.norm1.shift torch.Size([768])\n",
      "trf_blocks.10.norm2.scale torch.Size([768])\n",
      "trf_blocks.10.norm2.shift torch.Size([768])\n",
      "trf_blocks.11.att.W_query.weight torch.Size([768, 768])\n",
      "trf_blocks.11.att.W_key.weight torch.Size([768, 768])\n",
      "trf_blocks.11.att.W_value.weight torch.Size([768, 768])\n",
      "trf_blocks.11.att.out_proj.weight torch.Size([768, 768])\n",
      "trf_blocks.11.att.out_proj.bias torch.Size([768])\n",
      "trf_blocks.11.ff.layers.0.weight torch.Size([3072, 768])\n",
      "trf_blocks.11.ff.layers.0.bias torch.Size([3072])\n",
      "trf_blocks.11.ff.layers.2.weight torch.Size([768, 3072])\n",
      "trf_blocks.11.ff.layers.2.bias torch.Size([768])\n",
      "trf_blocks.11.norm1.scale torch.Size([768])\n",
      "trf_blocks.11.norm1.shift torch.Size([768])\n",
      "trf_blocks.11.norm2.scale torch.Size([768])\n",
      "trf_blocks.11.norm2.shift torch.Size([768])\n",
      "final_norm.scale torch.Size([768])\n",
      "final_norm.shift torch.Size([768])\n",
      "out_head.weight torch.Size([50257, 768])\n",
      "\n",
      "number of parameter layers: 161\n"
     ]
    }
   ],
   "source": [
    "#View of the model's parameters\n",
    "for name, param in model.named_parameters():\n",
    "    print(name, param.shape)\n",
    "\n",
    "print(f\"\\nnumber of parameter layers: {len(list(model.named_parameters()))}\")"
   ]
  },
  {
   "cell_type": "code",
   "execution_count": 52,
   "id": "7f395407",
   "metadata": {},
   "outputs": [
    {
     "data": {
      "text/markdown": [
       "```python\n",
       "def generate_text_simple(model, idx, max_new_tokens, context_size):\n",
       "    # idx is (B, T) array of indices in the current context\n",
       "    for _ in range(max_new_tokens):\n",
       "\n",
       "        # Crop current context if it exceeds the supported context size\n",
       "        # E.g., if LLM supports only 5 tokens, and the context size is 10\n",
       "        # then only the last 5 tokens are used as context\n",
       "        idx_cond = idx[:, -context_size:]\n",
       "\n",
       "        # Get the predictions\n",
       "        with torch.no_grad():\n",
       "            logits = model(idx_cond)\n",
       "\n",
       "        # Focus only on the last time step\n",
       "        # (batch, n_token, vocab_size) becomes (batch, vocab_size)\n",
       "        logits = logits[:, -1, :]\n",
       "\n",
       "        # Get the idx of the vocab entry with the highest logits value\n",
       "        idx_next = torch.argmax(logits, dim=-1, keepdim=True)  # (batch, 1)\n",
       "\n",
       "        # Append sampled index to the running sequence\n",
       "        idx = torch.cat((idx, idx_next), dim=1)  # (batch, n_tokens+1)\n",
       "\n",
       "    return idx\n",
       "\n",
       "```"
      ],
      "text/plain": [
       "<IPython.core.display.Markdown object>"
      ]
     },
     "metadata": {},
     "output_type": "display_data"
    }
   ],
   "source": [
    "#This block of code follows after viewing the GPT-2 model architecture and weights to transition from model inspection to practical usage. It ensures the tokenizer is available, adds the current directory to the Python path so local modules can be imported, and then imports the generate_text_simple function, which is essential for generating new text with the model.\n",
    "\n",
    "import tiktoken\n",
    "\n",
    "# Add the current notebook's directory to sys.path\n",
    "import sys\n",
    "import os\n",
    "sys.path.append(os.getcwd())\n",
    "\n",
    "#Import generate_text_simple function from gpt_from_scratch.py\n",
    "from gpt_from_scratch import generate_text_simple\n",
    "\n",
    "#Visualize the function\n",
    "import inspect\n",
    "from IPython.display import display, Markdown\n",
    "display(Markdown(f\"```python\\n{inspect.getsource(generate_text_simple)}\\n```\"))\n"
   ]
  },
  {
   "cell_type": "code",
   "execution_count": 63,
   "id": "e0d0064b",
   "metadata": {},
   "outputs": [
    {
     "name": "stdout",
     "output_type": "stream",
     "text": [
      "Output text: Every effort moves you rentingetic wasnم refres RexMeCHicular stren\n"
     ]
    }
   ],
   "source": [
    "#This block demonstrates how to use the loaded GPT-2 model for text generation. It defines helper functions to convert text to token IDs and back (i.e. encode and decode) and then uses the generate_text_simple function to generate next tokens from the model. Finally, it decodes and prints the generated output as readable text, showing the practical application of th emodel for generating language.\n",
    "\n",
    "def text_to_token_ids(text, tokenizer):\n",
    "    encoded = tokenizer.encode(text, allowed_special={'<|endoftext|>'})\n",
    "    encoded_tensor = torch.tensor(encoded).unsqueeze(0) # add batch dimension\n",
    "    return encoded_tensor\n",
    "\n",
    "def token_ids_to_text(token_ids, tokenizer):\n",
    "    flat = token_ids.squeeze(0) # remove batch dimension\n",
    "    return tokenizer.decode(flat.tolist())\n",
    "\n",
    "start_context = \"Every effort moves you\"\n",
    "tokenizer = tiktoken.get_encoding(\"gpt2\")\n",
    "\n",
    "token_ids = generate_text_simple(\n",
    "    model=model,\n",
    "    idx=text_to_token_ids(start_context, tokenizer),\n",
    "    max_new_tokens=10,\n",
    "    context_size=GPT_CONFIG_124M[\"context_length\"]\n",
    ")\n",
    "\n",
    "print(\"Output text:\",token_ids_to_text(token_ids, tokenizer))\n"
   ]
  },
  {
   "cell_type": "code",
   "execution_count": null,
   "id": "32e5e99c",
   "metadata": {},
   "outputs": [],
   "source": [
    "#Defines two small batch of tokenized inputs and their corresponding target sequences. The targets are the next tokens for each input, which is is standard in language modeling.\n",
    "\n",
    "inputs = torch.tensor([[16833, 3626, 6100],   # [\"every effort moves\",\n",
    "                       [40,    1107, 588]])   #  \"I really like\"]\n",
    "\n",
    "targets = torch.tensor([[3626, 6100, 345  ],  # [\" effort moves you\",\n",
    "                        [1107,  588, 11311]]) #  \" really like chocolate\"]"
   ]
  },
  {
   "cell_type": "code",
   "execution_count": null,
   "id": "c03a2ac2",
   "metadata": {},
   "outputs": [
    {
     "name": "stdout",
     "output_type": "stream",
     "text": [
      "Every effort moves you rentingetic wasnم refres RexMeCHicular stren\n"
     ]
    }
   ],
   "source": [
    "#Decodes a sequence of token IDS from a previous generation step into human readable text using the tokenizer.\n",
    "\n",
    "decoded_text = tokenizer.decode(token_ids.squeeze(0).tolist())\n",
    "print(decoded_text)"
   ]
  },
  {
   "cell_type": "code",
   "execution_count": null,
   "id": "307844e5",
   "metadata": {},
   "outputs": [
    {
     "name": "stdout",
     "output_type": "stream",
     "text": [
      "torch.Size([2, 3, 50257])\n"
     ]
    }
   ],
   "source": [
    "#Passes the inputs batch through the GPT model to get raw output scores (logits) for each token position and vocabulary entry. Applies softmax to convert logist to probabilities over the vocabulary for each token position.\n",
    "\n",
    "with torch.no_grad():\n",
    "    logits = model(inputs)\n",
    "\n",
    "probas = torch.softmax(logits, dim=-1) # Probability of each token in vocabulary\n",
    "print(probas.shape) # Shape: (batch_size, num_tokens, vocab_size)"
   ]
  },
  {
   "cell_type": "code",
   "execution_count": null,
   "id": "9c321b37",
   "metadata": {},
   "outputs": [
    {
     "name": "stdout",
     "output_type": "stream",
     "text": [
      "Token IDs:\n",
      " tensor([[[16657],\n",
      "         [  339],\n",
      "         [42826]],\n",
      "\n",
      "        [[49906],\n",
      "         [29669],\n",
      "         [41751]]])\n"
     ]
    }
   ],
   "source": [
    "#For each token position, selects the token ID with the highest probability. token_ids now contains the model's predicted next token for each position in the batch.\n",
    "\n",
    "token_ids = torch.argmax(probas, dim=-1, keepdim=True)\n",
    "print(\"Token IDs:\\n\", token_ids)"
   ]
  },
  {
   "cell_type": "code",
   "execution_count": null,
   "id": "ae211eaf",
   "metadata": {},
   "outputs": [
    {
     "name": "stdout",
     "output_type": "stream",
     "text": [
      "Targets batch 1:  effort moves you\n",
      "Outputs batch 1:  Armed heNetflix\n"
     ]
    }
   ],
   "source": [
    "#Decodes the first row of targets and model's predicted token_ids back to text for easy comparison. Allows one to see how well the model's predictions (in this untrained model) match the expected next tokens.\n",
    "\n",
    "print(f\"Targets batch 1: {token_ids_to_text(targets[0], tokenizer)}\")\n",
    "print(f\"Outputs batch 1: {token_ids_to_text(token_ids[0].flatten(), tokenizer)}\")"
   ]
  },
  {
   "cell_type": "code",
   "execution_count": 71,
   "id": "8a5ec069",
   "metadata": {},
   "outputs": [
    {
     "name": "stdout",
     "output_type": "stream",
     "text": [
      "Text 1: tensor([7.4541e-05, 3.1061e-05, 1.1563e-05])\n",
      "Text 2: tensor([1.0337e-05, 5.6776e-05, 4.7559e-06])\n"
     ]
    }
   ],
   "source": [
    "#Extracts probabilities assigned by the model to the correct or next tokens for each position in both input sequences\n",
    "\n",
    "text_idx = 0\n",
    "target_probas_1 = probas[text_idx, [0, 1, 2], targets[text_idx]]\n",
    "print(\"Text 1:\", target_probas_1)\n",
    "\n",
    "text_idx = 1\n",
    "target_probas_2 = probas[text_idx, [0, 1, 2], targets[text_idx]]\n",
    "print(\"Text 2:\", target_probas_2)"
   ]
  },
  {
   "cell_type": "code",
   "execution_count": null,
   "id": "0e04307c",
   "metadata": {},
   "outputs": [
    {
     "name": "stdout",
     "output_type": "stream",
     "text": [
      "tensor([ -9.5042, -10.3796, -11.3677, -11.4798,  -9.7764, -12.2561])\n",
      "tensor(-10.7940)\n"
     ]
    }
   ],
   "source": [
    "#Computes the log-probabilities of the correct tokens and then averages them. The average log-probability is a standard metric for model performance (higher is better) and is the basis for cross entropy calculations.\n",
    "\n",
    "log_probas = torch.log(torch.cat((target_probas_1, target_probas_2)))\n",
    "print(log_probas)\n",
    "\n",
    "avg_log_probas = torch.mean(log_probas)\n",
    "print(avg_log_probas)"
   ]
  },
  {
   "cell_type": "code",
   "execution_count": 74,
   "id": "1b55869d",
   "metadata": {},
   "outputs": [
    {
     "name": "stdout",
     "output_type": "stream",
     "text": [
      "tensor(10.7940)\n"
     ]
    }
   ],
   "source": [
    "#Negates the average log-probability to convert it into a loss (since optimization frameworks minimize loss. This is the cross-entropy value, the standard function for language modeling.\n",
    "\n",
    "neg_avg_log_probas = avg_log_probas * -1\n",
    "print(neg_avg_log_probas)"
   ]
  },
  {
   "cell_type": "code",
   "execution_count": null,
   "id": "907a750d",
   "metadata": {},
   "outputs": [
    {
     "name": "stdout",
     "output_type": "stream",
     "text": [
      "Logits shape: torch.Size([2, 3, 50257])\n",
      "Targets shape: torch.Size([2, 3])\n"
     ]
    }
   ],
   "source": [
    "#Checking the shape of the inputs and outputs.\n",
    "# Logits have shape (batch_size, num_tokens, vocab_size)\n",
    "print(\"Logits shape:\", logits.shape)\n",
    "\n",
    "# Targets have shape (batch_size, num_tokens)\n",
    "print(\"Targets shape:\", targets.shape)"
   ]
  },
  {
   "cell_type": "code",
   "execution_count": 77,
   "id": "a989ca15",
   "metadata": {},
   "outputs": [
    {
     "name": "stdout",
     "output_type": "stream",
     "text": [
      "Flattened logits: torch.Size([6, 50257])\n",
      "Flattened targets: torch.Size([6])\n"
     ]
    }
   ],
   "source": [
    "#Flatten tensors by combining them over the batch dimension.\n",
    "logits_flat = logits.flatten(0, 1)\n",
    "targets_flat = targets.flatten()\n",
    "\n",
    "print(\"Flattened logits:\", logits_flat.shape)\n",
    "print(\"Flattened targets:\", targets_flat.shape)"
   ]
  },
  {
   "cell_type": "code",
   "execution_count": 78,
   "id": "0fa7aec3",
   "metadata": {},
   "outputs": [
    {
     "name": "stdout",
     "output_type": "stream",
     "text": [
      "tensor(10.7940)\n"
     ]
    }
   ],
   "source": [
    "#Using PyTorch built-in cross-entropy function to compute the loss in a numerically stable and efficient way.\n",
    "\n",
    "loss = torch.nn.functional.cross_entropy(logits_flat, targets_flat)\n",
    "print(loss)"
   ]
  },
  {
   "cell_type": "code",
   "execution_count": null,
   "id": "ca12cee1",
   "metadata": {},
   "outputs": [
    {
     "name": "stdout",
     "output_type": "stream",
     "text": [
      "tensor(48725.8203)\n"
     ]
    }
   ],
   "source": [
    "#Calculates perplexity, a commonly used metric in language modeling that is the exponentiated cross-entrophy loss. (i.e. lower perplexity means the model is more confident and accurate in its predictions)\n",
    "\n",
    "perplexity = torch.exp(loss)\n",
    "print(perplexity)"
   ]
  },
  {
   "cell_type": "code",
   "execution_count": null,
   "id": "ac100f6a",
   "metadata": {},
   "outputs": [],
   "source": [
    "#Download and load a small text dataset for training and validation\n",
    "\n",
    "import os\n",
    "import urllib.request\n",
    "\n",
    "file_path = \"the-verdict.txt\"\n",
    "url = \"https://raw.githubusercontent.com/rasbt/LLMs-from-scratch/main/ch02/01_main-chapter-code/the-verdict.txt\"\n",
    "\n",
    "if not os.path.exists(file_path):\n",
    "    with urllib.request.urlopen(url) as response:\n",
    "        text_data = response.read().decode('utf-8')\n",
    "    with open(file_path, \"w\", encoding=\"utf-8\") as file:\n",
    "        file.write(text_data)\n",
    "else:\n",
    "    with open(file_path, \"r\", encoding=\"utf-8\") as file:\n",
    "        text_data = file.read()"
   ]
  },
  {
   "cell_type": "code",
   "execution_count": 97,
   "id": "148e4333",
   "metadata": {},
   "outputs": [
    {
     "name": "stdout",
     "output_type": "stream",
     "text": [
      "I HAD always thought Jack Gisburn rather a cheap genius--though a good fellow enough--so it was no \n",
      "it for me! The Strouds stand alone, and happen once--but there's no exterminating our kind of art.\"\n"
     ]
    }
   ],
   "source": [
    "#Checking the text\n",
    "print(text_data[:99])\n",
    "print(text_data[-99:])"
   ]
  },
  {
   "cell_type": "code",
   "execution_count": null,
   "id": "1186454d",
   "metadata": {},
   "outputs": [
    {
     "name": "stdout",
     "output_type": "stream",
     "text": [
      "Characters: 20479\n",
      "Tokens: 5145\n"
     ]
    }
   ],
   "source": [
    "#Text length in terms of characters and tokens\n",
    "\n",
    "total_characters = len(text_data)\n",
    "total_tokens = len(tokenizer.encode(text_data))\n",
    "\n",
    "print(\"Characters:\", total_characters)\n",
    "print(\"Tokens:\", total_tokens)\n"
   ]
  },
  {
   "cell_type": "code",
   "execution_count": 98,
   "id": "c8134091",
   "metadata": {},
   "outputs": [],
   "source": [
    "#Divide the dataset into a training and validation set and use the data loaders to prepare the batches for language model training\n",
    "\n",
    "from gpt_from_scratch import create_dataloader_v1\n",
    "\n",
    "# Train/validation ratio\n",
    "train_ratio = 0.90\n",
    "split_idx = int(train_ratio * len(text_data))\n",
    "train_data = text_data[:split_idx]\n",
    "val_data = text_data[split_idx:]\n",
    "\n",
    "\n",
    "torch.manual_seed(123)\n",
    "\n",
    "train_loader = create_dataloader_v1(\n",
    "    train_data,\n",
    "    batch_size=2,\n",
    "    max_length=GPT_CONFIG_124M[\"context_length\"],\n",
    "    stride=GPT_CONFIG_124M[\"context_length\"],\n",
    "    drop_last=True,\n",
    "    shuffle=True,\n",
    "    num_workers=0\n",
    ")\n",
    "\n",
    "val_loader = create_dataloader_v1(\n",
    "    val_data,\n",
    "    batch_size=2,\n",
    "    max_length=GPT_CONFIG_124M[\"context_length\"],\n",
    "    stride=GPT_CONFIG_124M[\"context_length\"],\n",
    "    drop_last=False,\n",
    "    shuffle=False,\n",
    "    num_workers=0\n",
    ")"
   ]
  },
  {
   "cell_type": "code",
   "execution_count": null,
   "id": "f2970816",
   "metadata": {},
   "outputs": [],
   "source": [
    "# Sanity check for errors\n",
    "\n",
    "if total_tokens * (train_ratio) < GPT_CONFIG_124M[\"context_length\"]:\n",
    "    print(\"Not enough tokens for the training loader. \"\n",
    "          \"Try to lower the `GPT_CONFIG_124M['context_length']` or \"\n",
    "          \"increase the `training_ratio`\")\n",
    "\n",
    "if total_tokens * (1-train_ratio) < GPT_CONFIG_124M[\"context_length\"]:\n",
    "    print(\"Not enough tokens for the validation loader. \"\n",
    "          \"Try to lower the `GPT_CONFIG_124M['context_length']` or \"\n",
    "          \"decrease the `training_ratio`\")"
   ]
  },
  {
   "cell_type": "code",
   "execution_count": 104,
   "id": "c63fcdd9",
   "metadata": {},
   "outputs": [
    {
     "name": "stdout",
     "output_type": "stream",
     "text": [
      "Train loader:\n",
      "torch.Size([2, 256]) torch.Size([2, 256])\n",
      "torch.Size([2, 256]) torch.Size([2, 256])\n",
      "torch.Size([2, 256]) torch.Size([2, 256])\n",
      "torch.Size([2, 256]) torch.Size([2, 256])\n",
      "torch.Size([2, 256]) torch.Size([2, 256])\n",
      "torch.Size([2, 256]) torch.Size([2, 256])\n",
      "torch.Size([2, 256]) torch.Size([2, 256])\n",
      "torch.Size([2, 256]) torch.Size([2, 256])\n",
      "torch.Size([2, 256]) torch.Size([2, 256])\n",
      "Validation loader:\n",
      "torch.Size([2, 256]) torch.Size([2, 256])\n"
     ]
    }
   ],
   "source": [
    "print(\"Train loader:\")\n",
    "for x, y in train_loader:\n",
    "    print(x.shape, y.shape)\n",
    "\n",
    "print(\"Validation loader:\")\n",
    "for x, y in val_loader:\n",
    "    print(x.shape, y.shape)\n"
   ]
  },
  {
   "cell_type": "code",
   "execution_count": 120,
   "id": "3fee5dea",
   "metadata": {},
   "outputs": [
    {
     "name": "stdout",
     "output_type": "stream",
     "text": [
      "Training tokens: 4608\n",
      "Validation tokens: 512\n",
      "All tokens are: 4608 + 512 or 5120\n"
     ]
    }
   ],
   "source": [
    "#Confirming token sizes are in the expected range.\n",
    "\n",
    "train_tokens = 0\n",
    "for input_batch, target_batch in train_loader:\n",
    "    train_tokens += input_batch.numel()\n",
    "\n",
    "val_tokens = 0\n",
    "for input_batch, target_batch in val_loader:\n",
    "    val_tokens += input_batch.numel()\n",
    "\n",
    "print(\"Training tokens:\", train_tokens)\n",
    "print(\"Validation tokens:\", val_tokens)\n",
    "print(f\"All tokens are: {train_tokens} + {val_tokens} or\",  train_tokens + val_tokens)\n",
    "\n"
   ]
  },
  {
   "cell_type": "code",
   "execution_count": 112,
   "id": "b4c188ae",
   "metadata": {},
   "outputs": [],
   "source": [
    "#Define utility functions to compute loss for a batch or an entire DataLoader\n",
    "\n",
    "def calc_loss_batch(input_batch, target_batch, model, device):\n",
    "    input_batch, target_batch = input_batch.to(device), target_batch.to(device)\n",
    "    logits = model(input_batch)\n",
    "    loss = torch.nn.functional.cross_entropy(logits.flatten(0, 1), target_batch.flatten())\n",
    "    return loss\n",
    "\n",
    "\n",
    "def calc_loss_loader(data_loader, model, device, num_batches=None):\n",
    "    total_loss = 0.\n",
    "    if len(data_loader) == 0:\n",
    "        return float(\"nan\")\n",
    "    elif num_batches is None:\n",
    "        num_batches = len(data_loader)\n",
    "    else:\n",
    "        # Reduce the number of batches to match the total number of batches in the data loader\n",
    "        # if num_batches exceeds the number of batches in the data loader\n",
    "        num_batches = min(num_batches, len(data_loader))\n",
    "    for i, (input_batch, target_batch) in enumerate(data_loader):\n",
    "        if i < num_batches:\n",
    "            loss = calc_loss_batch(input_batch, target_batch, model, device)\n",
    "            total_loss += loss.item()\n",
    "        else:\n",
    "            break\n",
    "    return total_loss / num_batches"
   ]
  },
  {
   "cell_type": "code",
   "execution_count": 143,
   "id": "e0074b66",
   "metadata": {},
   "outputs": [
    {
     "name": "stdout",
     "output_type": "stream",
     "text": [
      "Using mps device.\n",
      "Training loss: 0.10826531797647476\n",
      "Validation loss: 6.802339553833008\n"
     ]
    }
   ],
   "source": [
    "#Moves the model to the appropriate device (CPU/GPU/MPS), computes and prints the intitial training and validation losses. This establishes a baseline before training.\n",
    "\n",
    "\n",
    "if torch.cuda.is_available():\n",
    "    device = torch.device(\"cuda\")\n",
    "elif torch.backends.mps.is_available():\n",
    "    device = torch.device(\"mps\")\n",
    "else:\n",
    "    device = torch.device(\"cpu\")\n",
    "print(f\"Using {device} device.\")\n",
    "\n",
    "model.to(device)\n",
    "\n",
    "torch.manual_seed(123)\n",
    "with torch.no_grad(): #Disable gradient tracking not yet training\n",
    "    train_loss = calc_loss_loader(train_loader, model, device)\n",
    "    val_loss = calc_loss_loader(val_loader, model, device)\n",
    "\n",
    "print(\"Training loss:\", train_loss)\n",
    "print(\"Validation loss:\", val_loss)"
   ]
  },
  {
   "cell_type": "code",
   "execution_count": 144,
   "id": "657c1cf7",
   "metadata": {},
   "outputs": [],
   "source": [
    "def training_model_simple(model, train_loader, val_loader, optimizer, device, num_epochs,\n",
    "                            eval_freq, eval_iter, start_context, tokenizer):\n",
    "    # Initialize lists to track losses and tokens seen\n",
    "    train_losses, val_losses, track_tokens_seen = [], [], []\n",
    "    tokens_seen, global_step = 0, -1\n",
    "\n",
    "    # Main training loop\n",
    "    for epoch in range(num_epochs):\n",
    "        model.train()  # Set model to training mode\n",
    "\n",
    "        for input_batch, target_batch in train_loader:\n",
    "            optimizer.zero_grad()  # Reset gradients from prior batch\n",
    "            loss = calc_loss_batch(input_batch, target_batch, model, device)\n",
    "            loss.backward()  # Calculates the gradients\n",
    "            optimizer.step()  # Update model weights\n",
    "            tokens_seen += input_batch.numel()\n",
    "            global_step += 1\n",
    "\n",
    "        # Optional evaluation step\n",
    "        if global_step % eval_freq == 0:\n",
    "            train_loss, val_loss = evaluate_model(\n",
    "                model, train_loader, val_loader, device, eval_iter)\n",
    "            train_losses.append(train_loss)\n",
    "            val_losses.append(val_loss)\n",
    "            track_tokens_seen.append(tokens_seen)\n",
    "            print(f\"Ep {epoch+1} (Step {global_step:06d}): \"\n",
    "                  f\"Train loss {train_loss:.3f}, Val loss {val_loss:.3f}\")\n",
    "\n",
    "        # Print a sample text after each epoch\n",
    "        generate_and_print_sample(\n",
    "            model, tokenizer, device, start_context\n",
    "        )\n",
    "\n",
    "    return train_losses, val_losses, track_tokens_seen\n",
    "\n",
    "def evaluate_model(model, train_loader, val_loader, device, eval_iter):\n",
    "    model.eval()\n",
    "    with torch.no_grad():\n",
    "        train_loss = calc_loss_loader(train_loader, model, device, num_batches=eval_iter)\n",
    "        val_loss = calc_loss_loader(val_loader, model, device, num_batches=eval_iter)\n",
    "    model.train()\n",
    "    return train_loss, val_loss\n",
    "\n",
    "def generate_and_print_sample(model, tokenizer, device, start_context):\n",
    "    model.eval()\n",
    "    context_size = model.pos_emb.weight.shape[0]\n",
    "    encoded = text_to_token_ids(start_context, tokenizer).to(device)\n",
    "    with torch.no_grad():\n",
    "        token_ids = generate_text_simple(\n",
    "            model=model, idx=encoded,\n",
    "            max_new_tokens=50, context_size=context_size\n",
    "        )\n",
    "    decoded_text = token_ids_to_text(token_ids, tokenizer)\n",
    "    print(decoded_text.replace(\"\\n\", \" \"))  # Compact print format\n",
    "    model.train()"
   ]
  },
  {
   "cell_type": "code",
   "execution_count": 145,
   "id": "ceacfd51",
   "metadata": {},
   "outputs": [
    {
     "name": "stdout",
     "output_type": "stream",
     "text": [
      "Ep 1 (Step 000008): Train loss 7.310, Val loss 7.465\n",
      "Every effort moves you,,,,,,,,,,,,.                                     \n",
      "Every effort moves you, and, and, and, and, and, and, and, and, and, and, and, and, and, and, and, and, and, and, and, and, and, and, and, and, and\n",
      "Every effort moves you.                                                 \n",
      "Every effort moves you.                           \" I had a I had\" I had the picture had to the picture and I had to me--I\n",
      "Ep 5 (Step 000044): Train loss 3.551, Val loss 6.204\n",
      "Every effort moves you know to                                                \n",
      "Every effort moves you know it to see a little to have to the picture--I looked of that he had been--I had to see it was to see the donkey, and in the picture at my elbow and in the donkey, and down the room, with the\n",
      "Every effort moves you know it was not that the picture for a smile that, I was not--so it was no--the the fact, with a little a smile behind his pictures--I had been his own he had the donkey.      \n",
      "Every effort moves you know,\" was one of the picture for nothing--I told Mrs.                  He placed them at my elbow and as his pictures? a and were, and in his\n",
      "Ep 9 (Step 000080): Train loss 0.912, Val loss 6.277\n",
      "Every effort moves you?\"  \"Yes--quite insensible to the fact with the last word.     \"I didn't you know, and threw back the head to look up at the honour being _mine_--because he's the first\n",
      "Every effort moves you?\"  \"Yes--quite insensible to the irony. She wanted him vindicated--and by me!\"  He laughed again, and threw back his head to look up at the sketch of the donkey. \"There were days when I\n",
      "Training completed in 0.26 minutes.\n"
     ]
    }
   ],
   "source": [
    "#Now train model with the execution time\n",
    "\n",
    "import time\n",
    "start_time = time.time()\n",
    "\n",
    "torch.manual_seed(123)\n",
    "model = GPTModel(GPT_CONFIG_124M)\n",
    "model.to(device)\n",
    "optimizer = torch.optim.AdamW(model.parameters(), lr=0.0004, weight_decay=0.1)\n",
    "\n",
    "num_epochs = 10\n",
    "train_losses, val_losses, tokens_seen = training_model_simple(\n",
    "    model, train_loader, val_loader, optimizer, device, num_epochs=num_epochs, eval_freq=4, eval_iter=4,\n",
    "    start_context=\"Every effort moves you\", tokenizer=tokenizer\n",
    ")\n",
    "\n",
    "end_time = time.time()\n",
    "execution_time_minutes = (end_time - start_time)/ 60\n",
    "print(f\"Training completed in {execution_time_minutes:.2f} minutes.\")"
   ]
  },
  {
   "cell_type": "code",
   "execution_count": 146,
   "id": "4f604475",
   "metadata": {},
   "outputs": [
    {
     "data": {
      "image/png": "[encoded data removed]",
      "text/plain": [
       "<Figure size 500x300 with 2 Axes>"
      ]
     },
     "metadata": {},
     "output_type": "display_data"
    }
   ],
   "source": [
    "import matplotlib.pyplot as plt\n",
    "from matplotlib.ticker import MaxNLocator\n",
    "\n",
    "\n",
    "def plot_losses(epochs_seen, tokens_seen, train_losses, val_losses):\n",
    "    fig, ax1 = plt.subplots(figsize=(5, 3))\n",
    "\n",
    "    # Plot training and validation loss against epochs\n",
    "    ax1.plot(epochs_seen, train_losses, label=\"Training loss\")\n",
    "    ax1.plot(epochs_seen, val_losses, linestyle=\"-.\", label=\"Validation loss\")\n",
    "    ax1.set_xlabel(\"Epochs\")\n",
    "    ax1.set_ylabel(\"Loss\")\n",
    "    ax1.legend(loc=\"upper right\")\n",
    "    ax1.xaxis.set_major_locator(MaxNLocator(integer=True))  # only show integer labels on x-axis\n",
    "\n",
    "    # Create a second x-axis for tokens seen\n",
    "    ax2 = ax1.twiny()  # Create a second x-axis that shares the same y-axis\n",
    "    ax2.plot(tokens_seen, train_losses, alpha=0)  # Invisible plot for aligning ticks\n",
    "    ax2.set_xlabel(\"Tokens seen\")\n",
    "\n",
    "    fig.tight_layout()  # Adjust layout to make room\n",
    "    plt.savefig(\"loss-plot.pdf\")\n",
    "    plt.show()\n",
    "\n",
    "epochs_tensor = torch.linspace(0, num_epochs, len(train_losses))\n",
    "plot_losses(epochs_tensor, tokens_seen, train_losses, val_losses)"
   ]
  },
  {
   "cell_type": "code",
   "execution_count": 151,
   "id": "6e94d5aa",
   "metadata": {},
   "outputs": [
    {
     "name": "stdout",
     "output_type": "stream",
     "text": [
      "Output text:\n",
      " Every effort moves you?\"\n",
      "\n",
      "\"Yes--quite insensible to the irony. She wanted him vindicated--and by me!\"\n",
      "\n",
      "\n"
     ]
    }
   ],
   "source": [
    "#This cell moves the trained model to the CPU and sets it to evaluation mode (disabling dropout and other training-specific behaviors). It initializes the GPT-2 tokenizer, then generates 25 new tokens of text starting from the prompt \"Every effort moves you\" using the generate_text_simple function. The generated token IDs are decoded back to text and printed. This demonstrates how to use the trained model for inference (text generation) after training is complete.\n",
    "\n",
    "model.to(\"cpu\")\n",
    "model.eval()\n",
    "\n",
    "tokenizer = tiktoken.get_encoding(\"gpt2\")\n",
    "\n",
    "token_ids = generate_text_simple(\n",
    "    model=model,\n",
    "    idx=text_to_token_ids(\"Every effort moves you\", tokenizer),\n",
    "    max_new_tokens=25,\n",
    "    context_size=GPT_CONFIG_124M[\"context_length\"]\n",
    ")\n",
    "\n",
    "print(\"Output text:\\n\", token_ids_to_text(token_ids, tokenizer))\n"
   ]
  },
  {
   "cell_type": "code",
   "execution_count": 152,
   "id": "fe0c7078",
   "metadata": {},
   "outputs": [
    {
     "name": "stdout",
     "output_type": "stream",
     "text": [
      "forward\n"
     ]
    }
   ],
   "source": [
    "#This code block demonstrates how to generate the next token using a sample vocabulary and a set of logits. It applies softmax to convert logits to probabilities, then uses argmax to select the most likely token, and prints the corresponding word. This illustrates the standard greedy decoding approach.\n",
    "\n",
    "vocab = {\n",
    "    \"closer\": 0,\n",
    "    \"every\": 1,\n",
    "    \"effort\": 2,\n",
    "    \"forward\": 3,\n",
    "    \"inches\": 4,\n",
    "    \"moves\": 5,\n",
    "    \"pizza\": 6,\n",
    "    \"toward\": 7,\n",
    "    \"you\": 8,\n",
    "}\n",
    "\n",
    "inverse_vocab = {v: k for k, v in vocab.items()}\n",
    "\n",
    "# Suppose input is \"every effort moves you\", and the LLM\n",
    "# returns the following logits for the next token:\n",
    "next_token_logits = torch.tensor(\n",
    "    [4.51, 0.89, -1.90, 6.75, 1.63, -1.62, -1.89, 6.28, 1.79]\n",
    ")\n",
    "\n",
    "probas = torch.softmax(next_token_logits, dim=0)\n",
    "next_token_id = torch.argmax(probas).item()\n",
    "\n",
    "# The next generated token is then as follows:\n",
    "print(inverse_vocab[next_token_id])"
   ]
  },
  {
   "cell_type": "code",
   "execution_count": 153,
   "id": "3f5cfd6a",
   "metadata": {},
   "outputs": [
    {
     "name": "stdout",
     "output_type": "stream",
     "text": [
      "forward\n"
     ]
    }
   ],
   "source": [
    "torch.manual_seed(123)\n",
    "next_token_id = torch.multinomial(probas, num_samples=1).item()\n",
    "print(inverse_vocab[next_token_id])"
   ]
  },
  {
   "cell_type": "code",
   "execution_count": 154,
   "id": "047237d4",
   "metadata": {},
   "outputs": [
    {
     "name": "stdout",
     "output_type": "stream",
     "text": [
      "73 x closer\n",
      "0 x every\n",
      "0 x effort\n",
      "582 x forward\n",
      "2 x inches\n",
      "0 x moves\n",
      "0 x pizza\n",
      "343 x toward\n",
      "0 x you\n"
     ]
    }
   ],
   "source": [
    "def print_sampled_tokens(probas):\n",
    "    torch.manual_seed(123) # Manual seed for reproducibility\n",
    "    sample = [torch.multinomial(probas, num_samples=1).item() for i in range(1_000)]\n",
    "    sampled_ids = torch.bincount(torch.tensor(sample), minlength=len(probas))\n",
    "    for i, freq in enumerate(sampled_ids):\n",
    "        print(f\"{freq} x {inverse_vocab[i]}\")\n",
    "\n",
    "print_sampled_tokens(probas)"
   ]
  },
  {
   "cell_type": "code",
   "execution_count": 155,
   "id": "9546f885",
   "metadata": {},
   "outputs": [],
   "source": [
    "def softmax_with_temperature(logits, temperature):\n",
    "    scaled_logits = logits / temperature\n",
    "    return torch.softmax(scaled_logits, dim=0)\n",
    "\n",
    "# Temperature values\n",
    "temperatures = [1, 0.1, 5]  # Original, higher confidence, and lower confidence\n",
    "\n",
    "# Calculate scaled probabilities\n",
    "scaled_probas = [softmax_with_temperature(next_token_logits, T) for T in temperatures]"
   ]
  },
  {
   "cell_type": "code",
   "execution_count": 156,
   "id": "1325dccd",
   "metadata": {},
   "outputs": [
    {
     "data": {
      "image/png": "[encoded data removed]",
      "text/plain": [
       "<Figure size 500x300 with 1 Axes>"
      ]
     },
     "metadata": {},
     "output_type": "display_data"
    }
   ],
   "source": [
    "# Plotting\n",
    "x = torch.arange(len(vocab))\n",
    "bar_width = 0.15\n",
    "\n",
    "fig, ax = plt.subplots(figsize=(5, 3))\n",
    "for i, T in enumerate(temperatures):\n",
    "    rects = ax.bar(x + i * bar_width, scaled_probas[i], bar_width, label=f'Temperature = {T}')\n",
    "\n",
    "ax.set_ylabel('Probability')\n",
    "ax.set_xticks(x)\n",
    "ax.set_xticklabels(vocab.keys(), rotation=90)\n",
    "ax.legend()\n",
    "\n",
    "plt.tight_layout()\n",
    "plt.savefig(\"temperature-plot.pdf\")\n",
    "plt.show()"
   ]
  },
  {
   "cell_type": "code",
   "execution_count": 157,
   "id": "f7f16a1e",
   "metadata": {},
   "outputs": [
    {
     "name": "stdout",
     "output_type": "stream",
     "text": [
      "0 x closer\n",
      "0 x every\n",
      "0 x effort\n",
      "985 x forward\n",
      "0 x inches\n",
      "0 x moves\n",
      "0 x pizza\n",
      "15 x toward\n",
      "0 x you\n"
     ]
    }
   ],
   "source": [
    "print_sampled_tokens(scaled_probas[1])"
   ]
  },
  {
   "cell_type": "code",
   "execution_count": 158,
   "id": "1e2581fc",
   "metadata": {},
   "outputs": [
    {
     "name": "stdout",
     "output_type": "stream",
     "text": [
      "Top logits: tensor([6.7500, 6.2800, 4.5100])\n",
      "Top positions: tensor([3, 7, 0])\n"
     ]
    }
   ],
   "source": [
    "#Top-k sampling\n",
    "\n",
    "top_k = 3\n",
    "top_logits, top_pos = torch.topk(next_token_logits, top_k)\n",
    "\n",
    "print(\"Top logits:\", top_logits)\n",
    "print(\"Top positions:\", top_pos)"
   ]
  },
  {
   "cell_type": "code",
   "execution_count": 159,
   "id": "37e56259",
   "metadata": {},
   "outputs": [
    {
     "name": "stdout",
     "output_type": "stream",
     "text": [
      "tensor([4.5100,   -inf,   -inf, 6.7500,   -inf,   -inf,   -inf, 6.2800,   -inf])\n"
     ]
    }
   ],
   "source": [
    "new_logits = torch.where(\n",
    "    condition=next_token_logits < top_logits[-1],\n",
    "    input=torch.tensor(float(\"-inf\")),\n",
    "    other=next_token_logits\n",
    ")\n",
    "\n",
    "print(new_logits)"
   ]
  },
  {
   "cell_type": "code",
   "execution_count": 160,
   "id": "d2762a0e",
   "metadata": {},
   "outputs": [
    {
     "name": "stdout",
     "output_type": "stream",
     "text": [
      "tensor([0.0615, 0.0000, 0.0000, 0.5775, 0.0000, 0.0000, 0.0000, 0.3610, 0.0000])\n"
     ]
    }
   ],
   "source": [
    "topk_probas = torch.softmax(new_logits, dim=0)\n",
    "print(topk_probas)"
   ]
  },
  {
   "cell_type": "code",
   "execution_count": null,
   "id": "bcd3b909",
   "metadata": {},
   "outputs": [],
   "source": [
    "#MOdifiying the text generation function using temperature scaling and top-k sampling.\n",
    "\n",
    "def generate(model, idx, max_new_tokens, context_size, temperature=0.0, top_k=None, eos_id=None):\n",
    "\n",
    "    # For-loop is the same as before: Get logits, and only focus on last time step\n",
    "    for _ in range(max_new_tokens):\n",
    "        idx_cond = idx[:, -context_size:]\n",
    "        with torch.no_grad():\n",
    "            logits = model(idx_cond)\n",
    "        logits = logits[:, -1, :]\n",
    "\n",
    "        # New: Filter logits with top_k sampling\n",
    "        if top_k is not None:\n",
    "            # Keep only top_k values\n",
    "            top_logits, _ = torch.topk(logits, top_k)\n",
    "            min_val = top_logits[:, -1]\n",
    "            logits = torch.where(logits < min_val, torch.tensor(float(\"-inf\")).to(logits.device), logits)\n",
    "\n",
    "        # New: Apply temperature scaling\n",
    "        if temperature > 0.0:\n",
    "            logits = logits / temperature\n",
    "\n",
    "            # Apply softmax to get probabilities\n",
    "            probs = torch.softmax(logits, dim=-1)  # (batch_size, context_len)\n",
    "\n",
    "            # Sample from the distribution\n",
    "            idx_next = torch.multinomial(probs, num_samples=1)  # (batch_size, 1)\n",
    "\n",
    "        # Otherwise same as before: get idx of the vocab entry with the highest logits value\n",
    "        else:\n",
    "            idx_next = torch.argmax(logits, dim=-1, keepdim=True)  # (batch_size, 1)\n",
    "\n",
    "        if idx_next == eos_id:  # Stop generating early if end-of-sequence token is encountered and eos_id is specified\n",
    "            break\n",
    "\n",
    "        # Same as before: append sampled index to the running sequence\n",
    "        idx = torch.cat((idx, idx_next), dim=1)  # (batch_size, num_tokens+1)\n",
    "\n",
    "    return idx"
   ]
  },
  {
   "cell_type": "code",
   "execution_count": 162,
   "id": "0314815a",
   "metadata": {},
   "outputs": [
    {
     "name": "stdout",
     "output_type": "stream",
     "text": [
      "Output text:\n",
      " Every effort moves you?\"\" Gisburn rather a--I felt nervous and uncertain.\n",
      "\n"
     ]
    }
   ],
   "source": [
    "torch.manual_seed(123)\n",
    "\n",
    "token_ids = generate(\n",
    "    model=model,\n",
    "    idx=text_to_token_ids(\"Every effort moves you\", tokenizer),\n",
    "    max_new_tokens=15,\n",
    "    context_size=GPT_CONFIG_124M[\"context_length\"],\n",
    "    top_k=25,\n",
    "    temperature=1.4\n",
    ")\n",
    "\n",
    "print(\"Output text:\\n\", token_ids_to_text(token_ids, tokenizer))"
   ]
  },
  {
   "cell_type": "code",
   "execution_count": 165,
   "id": "28399e75",
   "metadata": {},
   "outputs": [],
   "source": [
    "#Loading and saving the model weights in PyTorch\n",
    "\n",
    "torch.save(model.state_dict(), \"model.pth\")"
   ]
  },
  {
   "cell_type": "code",
   "execution_count": 167,
   "id": "cdaa3fc6",
   "metadata": {},
   "outputs": [],
   "source": [
    "model = GPTModel(GPT_CONFIG_124M)\n",
    "device = torch.device(\"cuda\" if torch.cuda.is_available() else \"cpu\")\n",
    "model.load_state_dict(torch.load(\"model.pth\", map_location=device, weights_only=True))\n",
    "model.eval();"
   ]
  },
  {
   "cell_type": "code",
   "execution_count": 169,
   "id": "52fc02df",
   "metadata": {},
   "outputs": [],
   "source": [
    "torch.save({\n",
    "    \"model_state_dict\": model.state_dict(),\n",
    "    \"optimizer_state_dict\": optimizer.state_dict(),\n",
    "    },\n",
    "    \"model_and_optimizer.pth\"\n",
    ")"
   ]
  },
  {
   "cell_type": "code",
   "execution_count": 170,
   "id": "624e39d1",
   "metadata": {},
   "outputs": [],
   "source": [
    "checkpoint = torch.load(\"model_and_optimizer.pth\", weights_only=True)\n",
    "\n",
    "model = GPTModel(GPT_CONFIG_124M)\n",
    "model.load_state_dict(checkpoint[\"model_state_dict\"])\n",
    "\n",
    "optimizer = torch.optim.AdamW(model.parameters(), lr=0.0005, weight_decay=0.1)\n",
    "optimizer.load_state_dict(checkpoint[\"optimizer_state_dict\"])\n",
    "model.train();"
   ]
  },
  {
   "cell_type": "code",
   "execution_count": 171,
   "id": "70925bd5",
   "metadata": {},
   "outputs": [
    {
     "name": "stdout",
     "output_type": "stream",
     "text": [
      "TensorFlow version: 2.20.0\n",
      "tqdm version: 4.67.1\n"
     ]
    }
   ],
   "source": [
    "#Loading pretrained weights from OpenAI\n",
    "\n",
    "print(\"TensorFlow version:\", version(\"tensorflow\"))\n",
    "print(\"tqdm version:\", version(\"tqdm\"))"
   ]
  }
 ],
 "metadata": {
  "kernelspec": {
   "display_name": "Python 3",
   "language": "python",
   "name": "python3"
  },
  "language_info": {
   "codemirror_mode": {
    "name": "ipython",
    "version": 3
   },
   "file_extension": ".py",
   "mimetype": "text/x-python",
   "name": "python",
   "nbconvert_exporter": "python",
   "pygments_lexer": "ipython3",
   "version": "3.10.4"
  }
 },
 "nbformat": 4,
 "nbformat_minor": 5
}

{
 "cells": [
  {
   "cell_type": "code",
   "execution_count": 1,
   "id": "fd28c1b4",
   "metadata": {},
   "outputs": [],
   "source": [
    "# Import relevant packages\n",
    "\n",
    "import matplotlib\n",
    "import torch\n",
    "import tiktoken"
   ]
  },
  {
   "cell_type": "code",
   "execution_count": 2,
   "id": "94046e25",
   "metadata": {},
   "outputs": [
    {
     "name": "stdout",
     "output_type": "stream",
     "text": [
      "matplotlib version: 3.9.2\n",
      "torch version: 2.5.1\n",
      "tiktoken version: 0.11.0\n"
     ]
    }
   ],
   "source": [
    "#Versions of each package\n",
    "from importlib.metadata import version\n",
    "\n",
    "print(\"matplotlib version:\", version(\"matplotlib\"))\n",
    "print(\"torch version:\", version(\"torch\"))\n",
    "print(\"tiktoken version:\", version(\"tiktoken\"))"
   ]
  },
  {
   "cell_type": "code",
   "execution_count": 6,
   "id": "f5de98f9",
   "metadata": {},
   "outputs": [],
   "source": [
    "#Configuration of 124 million parameter GPT-2 model:\n",
    "\n",
    "GPT_CONFIG_124M = {\n",
    "    \"vocab_size\": 50257,    #Vocabulary size\n",
    "    \"context_length\": 1024, #Context length\n",
    "    \"emb_dim\": 768,         #Embedding dimension\n",
    "    \"n_heads\": 12,          #Number of attention heads\n",
    "    \"n_layers\": 12,         #Number of layers\n",
    "    \"drop_rate\": 0.1,       #Dropout rate\n",
    "    \"qkv_bias\": False       #Query-Key-Value bias\n",
    "}\n"
   ]
  },
  {
   "cell_type": "code",
   "execution_count": null,
   "id": "10401dad",
   "metadata": {},
   "outputs": [],
   "source": []
  }
 ],
 "metadata": {
  "kernelspec": {
   "display_name": "Python 3",
   "language": "python",
   "name": "python3"
  },
  "language_info": {
   "codemirror_mode": {
    "name": "ipython",
    "version": 3
   },
   "file_extension": ".py",
   "mimetype": "text/x-python",
   "name": "python",
   "nbconvert_exporter": "python",
   "pygments_lexer": "ipython3",
   "version": "3.10.4"
  }
 },
 "nbformat": 4,
 "nbformat_minor": 5
}
